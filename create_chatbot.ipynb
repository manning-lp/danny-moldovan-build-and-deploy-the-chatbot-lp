{
 "cells": [
  {
   "cell_type": "code",
   "execution_count": 1,
   "id": "97a399cb-359a-4e6a-89d2-533df6799845",
   "metadata": {},
   "outputs": [],
   "source": [
    "!pip install langchain -q\n",
    "!pip install langchain_community -q\n",
    "!pip install -U langchain-openai -q\n",
    "!pip install chromadb -q"
   ]
  },
  {
   "cell_type": "code",
   "execution_count": 2,
   "id": "48ab8620-73b9-440d-83fe-54c94518fa51",
   "metadata": {},
   "outputs": [],
   "source": [
    "from langchain.chains import ConversationalRetrievalChain\n",
    "from langchain.llms import OpenAI\n",
    "from langchain.vectorstores import Chroma\n",
    "#from langchain.embeddings import OpenAIEmbeddings\n",
    "from langchain_openai import OpenAIEmbeddings\n",
    "from langchain.memory import ConversationBufferMemory\n",
    "from langchain.prompts.prompt import PromptTemplate\n",
    "import os\n",
    "from dotenv import load_dotenv\n",
    "\n",
    "from langchain_core.prompts import ChatPromptTemplate\n",
    "from langchain_core.prompts import MessagesPlaceholder\n",
    "from langchain.chains import create_history_aware_retriever"
   ]
  },
  {
   "cell_type": "code",
   "execution_count": 3,
   "id": "2d10ed19-cb90-4f32-8e88-f6a48b4ec567",
   "metadata": {},
   "outputs": [],
   "source": [
    "load_dotenv()\n",
    "\n",
    "openai_api_key = os.environ['OPENAI_API_KEY']"
   ]
  },
  {
   "cell_type": "code",
   "execution_count": 4,
   "id": "6e492682-e4b4-4cef-9763-c4a60114d34b",
   "metadata": {},
   "outputs": [],
   "source": [
    "from langchain_openai import ChatOpenAI\n",
    "llm = ChatOpenAI()"
   ]
  },
  {
   "cell_type": "code",
   "execution_count": 5,
   "id": "f394c181-1bc9-43e1-9c44-cbffe55b0d4c",
   "metadata": {},
   "outputs": [],
   "source": [
    "# Create ChromaDB retriever (assumes ChromaDB is already set up)\n",
    "persist_directory = \"chromadb_retriever\"\n",
    "embedding = OpenAIEmbeddings(openai_api_key=openai_api_key)\n",
    "db = Chroma(persist_directory=persist_directory, embedding_function=embedding)\n",
    "retriever = db.as_retriever()"
   ]
  },
  {
   "cell_type": "code",
   "execution_count": 6,
   "id": "96b533dc-9ef8-46b4-9fb1-7b1e64ff493b",
   "metadata": {},
   "outputs": [
    {
     "name": "stderr",
     "output_type": "stream",
     "text": [
      "/home/zeus/miniconda3/envs/cloudspace/lib/python3.10/site-packages/langchain_core/_api/deprecation.py:119: LangChainDeprecationWarning: The class `OpenAI` was deprecated in LangChain 0.0.10 and will be removed in 0.3.0. An updated version of the class exists in the langchain-openai package and should be used instead. To use it run `pip install -U langchain-openai` and import as `from langchain_openai import OpenAI`.\n",
      "  warn_deprecated(\n"
     ]
    }
   ],
   "source": [
    "prompt_search_query = ChatPromptTemplate.from_messages([\n",
    "    MessagesPlaceholder(variable_name=\"chat_history\"),\n",
    "    (\"user\",\"{input}\"),\n",
    "    (\"user\",\"Given the above conversation, generate a search query to look up to get information relevant to the conversation\")\n",
    "])\n",
    "\n",
    "retriever_chain = create_history_aware_retriever(\n",
    "    OpenAI(temperature=0, openai_api_key=openai_api_key), \n",
    "    retriever, \n",
    "    prompt_search_query)"
   ]
  },
  {
   "cell_type": "code",
   "execution_count": 7,
   "id": "0dcc91c4-6c76-4d10-9af8-d9ad8ce45b05",
   "metadata": {},
   "outputs": [],
   "source": [
    "prompt_get_answer = ChatPromptTemplate.from_messages([\n",
    "    (\"system\", \"Answer the user's questions based on the below context:\\\\n\\\\n{context}\"),\n",
    "    MessagesPlaceholder(variable_name=\"chat_history\"),\n",
    "    (\"user\",\"{input}\"),\n",
    "])"
   ]
  },
  {
   "cell_type": "code",
   "execution_count": 8,
   "id": "88b23deb-4409-4c30-9725-73d16b425aad",
   "metadata": {},
   "outputs": [],
   "source": [
    "retriever_chain = create_history_aware_retriever(llm, retriever, prompt_search_query)"
   ]
  },
  {
   "cell_type": "code",
   "execution_count": 9,
   "id": "f4563fb8-8951-40e4-8bf1-cd322a3ef265",
   "metadata": {},
   "outputs": [],
   "source": [
    "from langchain.chains.combine_documents import create_stuff_documents_chain\n",
    "document_chain=create_stuff_documents_chain(llm,prompt_get_answer)"
   ]
  },
  {
   "cell_type": "code",
   "execution_count": 10,
   "id": "6245e18d-762b-4f94-8ed3-1361839718a5",
   "metadata": {},
   "outputs": [],
   "source": [
    "from langchain.chains import create_retrieval_chain\n",
    "retrieval_chain = create_retrieval_chain(retriever_chain, document_chain)"
   ]
  },
  {
   "cell_type": "code",
   "execution_count": 11,
   "id": "efd6be5f-1a51-434b-b95f-15bf00aada79",
   "metadata": {},
   "outputs": [
    {
     "name": "stdin",
     "output_type": "stream",
     "text": [
      "Ask a question:  what is langchain\n"
     ]
    },
    {
     "name": "stdout",
     "output_type": "stream",
     "text": [
      "Answer:  Langchain is a decentralized platform that aims to provide translation services using blockchain technology. It allows users to connect with translators directly, eliminating the need for intermediaries and ensuring secure and transparent transactions. The platform also offers features such as smart contracts and token incentives to facilitate the translation process.\n",
      "\n"
     ]
    },
    {
     "name": "stdin",
     "output_type": "stream",
     "text": [
      "Ask a question:  How to install LangChain?\n"
     ]
    },
    {
     "name": "stdout",
     "output_type": "stream",
     "text": [
      "Answer:  To install LangChain, you would typically need to follow the steps provided by the platform developers. This may involve downloading the necessary software or applications, creating an account, and setting up your profile. It's important to visit the official LangChain website or contact their customer support for specific installation instructions and any technical assistance you may need.\n",
      "\n"
     ]
    },
    {
     "name": "stdin",
     "output_type": "stream",
     "text": [
      "Ask a question:  exit\n"
     ]
    }
   ],
   "source": [
    "from langchain_core.messages import HumanMessage, AIMessage\n",
    "\n",
    "chat_history = []  #[HumanMessage(content=\"What is LangChain?\"), AIMessage(content=\"Yes\")]\n",
    "\n",
    "while True:\n",
    "    query = input(\"Ask a question: \")\n",
    "    if query.lower() == 'exit':\n",
    "        break\n",
    "        \n",
    "    response = retrieval_chain.invoke(\n",
    "        {\n",
    "            \"chat_history\":chat_history,\n",
    "            \"input\":query\n",
    "        }\n",
    "    )\n",
    "    \n",
    "    print('Answer: ', response['answer'])\n",
    "    chat_history.append(HumanMessage(content=query))\n",
    "    chat_history.append(AIMessage(content=response['answer']))\n",
    "    #= response['chat_history']\n",
    "    #print('Chat history: ', chat_history)\n",
    "    print()"
   ]
  },
  {
   "cell_type": "code",
   "execution_count": 24,
   "id": "3154f4fa-e6bb-451b-9d4a-9c524a48441f",
   "metadata": {},
   "outputs": [],
   "source": [
    "from langchain.chains import ConversationalRetrievalChain\n",
    "from langchain_community.chat_models import ChatOpenAI\n",
    "# from langchain_community.embeddings import OpenAIEmbeddings\n",
    "from langchain.memory import ConversationBufferMemory\n",
    "# from langchain_community.vectorstores import Chroma\n",
    "from langchain.vectorstores import Chroma\n",
    "from langchain.embeddings.openai import OpenAIEmbeddings\n",
    "import os\n",
    "from dotenv import load_dotenv\n",
    "import chromadb\n",
    "from chromadb.config import DEFAULT_TENANT, DEFAULT_DATABASE, Settings\n",
    "\n",
    "\n",
    "\n",
    "load_dotenv()\n",
    "\n",
    "persist_directory = \"chroma_db\"\n",
    "embedding = OpenAIEmbeddings(openai_api_key=os.environ['OPENAI_API_KEY'])\n",
    "chroma_client = chromadb.PersistentClient(\n",
    "    path=\"chroma_db\",\n",
    "    settings=Settings(),\n",
    "    tenant=DEFAULT_TENANT,\n",
    "    database=DEFAULT_DATABASE,\n",
    ")\n",
    "# Initialize Chroma vector store\n",
    "vector_store = Chroma(\n",
    "    collection_name=\"langchain_store\",  # The name of the collection in your Chroma DB\n",
    "    client=chroma_client,  # The initialized Chroma client\n",
    "    embedding_function=embedding\n",
    ")"
   ]
  },
  {
   "cell_type": "code",
   "execution_count": 25,
   "id": "be5aab8e-b709-4b17-a272-3997af4d6670",
   "metadata": {},
   "outputs": [
    {
     "data": {
      "text/plain": [
       "[Document(page_content='{\\'id\\': \\'52715796284e-51\\', \\'text\\': \"dressed in Bell-Bottoms and a Hip Italian Knit Shirt,\\\\\\\\r\\\\\\\\n          Marshmallow Shoes steps inside the Narcotics office, which is\\\\\\\\r\\\\\\\\n          literally The Basement of The Station. He looks around at The\\\\\\\\r\\\\\\\\n          Area Buzzing with Activity and sees\\\\\\\\r\\\\\\\\n                         \\\\\\\\r\\\\\\\\n          ANGLE - UNDERCOVER COPS\\\\\\\\r\\\\\\\\n                         \\\\\\\\r\\\\\\\\n          at their desks. Looking less like Cops and more like unkempt\\\\\\\\r\\\\\\\\n          Hippies or Rock N\\\\\\\\\\' Rollers.\\\\\\\\r\\\\\\\\n                         \\\\\\\\r\\\\\\\\n          CLOSE - RON\\\\\\\\r\\\\\\\\n                         \\\\\\\\r\\\\\\\\n          just stands there looking at all the activity.\\\\\\\\r\\\\\\\\n                         \\\\\\\\r\\\\\\\\n          CLOSE -\", \\'source\\': \\'https://python.langchain.com/en/latest/modules/indexes/document_loaders/examples/imsdb.html\\'}'),\n",
       " Document(page_content=\"{'id': '52715796284e-109', 'text': 'KWAME TURE\\\\\\\\r\\\\\\\\n                          Black people were Born in Jail.\\\\\\\\r\\\\\\\\n                         \\\\\\\\r\\\\\\\\n                                                            CUT BACK TO:\\\\\\\\r\\\\\\\\n                         \\\\\\\\r\\\\\\\\n          INT. RED LANTERN INN - NIGHT\\\\\\\\r\\\\\\\\n                         \\\\\\\\r\\\\\\\\n          Patrice at the Bar with Ron, he is stunned.\\\\\\\\r\\\\\\\\n                         \\\\\\\\r\\\\\\\\n                                                     RON STALLWORTH\\\\\\\\r\\\\\\\\n                          Did you see', 'source': 'https://python.langchain.com/en/latest/modules/indexes/document_loaders/examples/imsdb.html'}\"),\n",
       " Document(page_content='{\\'id\\': \\'52715796284e-3\\', \\'text\\': \"Battle but they didn\\\\\\\\\\'t lose The War.\\\\\\\\r\\\\\\\\n                       Yes, Friends, We are under attack.\\\\\\\\r\\\\\\\\n                         \\\\\\\\r\\\\\\\\n                                                                          CUT TO:\\\\\\\\r\\\\\\\\n                         \\\\\\\\r\\\\\\\\n          A 1960\\\\\\\\\\'S EDUCATIONAL STYLE FILM\\\\\\\\r\\\\\\\\n                         \\\\\\\\r\\\\\\\\n          Shot on Grainy COLOR 16MM EKTACHROME Film, The NARRATOR\\\\\\\\r\\\\\\\\n          BEAUREGARD, a Middle Aged but handsome, White Male, sits at a\\\\\\\\r\\\\\\\\n          desk, a Confederate Flag on a stand beside him. Very\\\\\\\\r\\\\\\\\n          Official. He\", \\'source\\': \\'https://python.langchain.com/en/latest/modules/indexes/document_loaders/examples/imsdb.html\\'}'),\n",
       " Document(page_content=\"{'id': '52715796284e-497', 'text': 'FELIX\\\\\\\\r\\\\\\\\n                       You stay here. Ya hear?\\\\\\\\r\\\\\\\\n                         \\\\\\\\r\\\\\\\\n          INT. WAITING ROOM - STEAKHOUSE - DAY\\\\\\\\r\\\\\\\\n                         \\\\\\\\r\\\\\\\\n          The Mood now Solemn and Deadly Serious and Religious. Flip\\\\\\\\r\\\\\\\\n          and Ten other INDUCTEES stand in a cramped waiting room. They\\\\\\\\r\\\\\\\\n          all wear Klan robes and White Lone Ranger Masks. The other\\\\\\\\r\\\\\\\\n          inductees are grinning ear to ear, like Kids on Early Morning\\\\\\\\r\\\\\\\\n          Christmas.\\\\\\\\r\\\\\\\\n          JESSE NAYYAR steps in. Jesse is 35, Clean-Shaven, in shape\\\\\\\\r\\\\\\\\n          underneath his flowing Klan robe.\\\\\\\\r\\\\\\\\n', 'source': 'https://python.langchain.com/en/latest/modules/indexes/document_loaders/examples/imsdb.html'}\")]"
      ]
     },
     "execution_count": 25,
     "metadata": {},
     "output_type": "execute_result"
    }
   ],
   "source": [
    "vector_store.search('kitty bank', search_type='similarity')"
   ]
  },
  {
   "cell_type": "code",
   "execution_count": 23,
   "id": "68f5888f-075f-456d-802d-1cc472e1684a",
   "metadata": {},
   "outputs": [
    {
     "data": {
      "text/plain": [
       "[Collection(name=langchain_store)]"
      ]
     },
     "execution_count": 23,
     "metadata": {},
     "output_type": "execute_result"
    }
   ],
   "source": [
    "chroma_client.list_collections()"
   ]
  },
  {
   "cell_type": "code",
   "execution_count": null,
   "id": "150873e8-e5bd-43b5-a867-6081191cb79d",
   "metadata": {},
   "outputs": [],
   "source": []
  }
 ],
 "metadata": {
  "kernelspec": {
   "display_name": "Python 3",
   "language": "python",
   "name": "python3"
  },
  "language_info": {
   "codemirror_mode": {
    "name": "ipython",
    "version": 3
   },
   "file_extension": ".py",
   "mimetype": "text/x-python",
   "name": "python",
   "nbconvert_exporter": "python",
   "pygments_lexer": "ipython3",
   "version": "3.10.10"
  }
 },
 "nbformat": 4,
 "nbformat_minor": 5
}
