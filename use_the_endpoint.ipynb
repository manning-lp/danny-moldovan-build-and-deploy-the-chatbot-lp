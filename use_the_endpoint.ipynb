{
 "cells": [
  {
   "cell_type": "code",
   "execution_count": null,
   "id": "5263e9f8-5c6c-40bc-9f90-e61861ef021f",
   "metadata": {},
   "outputs": [],
   "source": [
    "!pip install sse_starlette -q\n",
    "!pip install langserve -q"
   ]
  },
  {
   "cell_type": "code",
   "execution_count": 1,
   "id": "75d3aef5-85f9-4255-b5dd-77183326034e",
   "metadata": {},
   "outputs": [],
   "source": [
    "from dotenv import load_dotenv\n",
    "import os\n",
    "load_dotenv()\n",
    "\n",
    "openai_api_key = os.environ['OPENAI_API_KEY']"
   ]
  },
  {
   "cell_type": "code",
   "execution_count": 5,
   "id": "f2cbec47-465d-44b3-b01a-846c342eb285",
   "metadata": {},
   "outputs": [
    {
     "name": "stdout",
     "output_type": "stream",
     "text": [
      "{'output': {'answer': 'LangChain is a tool that provides various modules and capabilities for working with language models. Some of the features and capabilities of LangChain include:\\n\\n1. **Indexes**: Language models are enhanced when combined with your own text data, and LangChain covers best practices for integrating them.\\n   \\n2. **Chains**: LangChain allows for sequences of calls, not just single language model calls. It provides a standard interface for chains, integrations with other tools, and end-to-end chains for common applications.\\n   \\n3. **Agents**: Agents involve a language model making decisions about actions to take, executing those actions, observing the results, and repeating the process until completion. LangChain offers a standard interface for agents, a selection of agent types, and examples of end-to-end agents.\\n   \\n4. **Use Cases**: LangChain supports various common use cases such as personal assistants, question answering, chatbots, data augmented generation, summarization, querying tabular data, interacting with APIs, extraction, and evaluation of generative models.\\n\\n5. **Memory**: LangChain provides a standard interface for memory, which allows for persisting state between calls of a chain or agent. It includes various memory implementations and examples of chains or agents that utilize memory.\\n\\n6. **Chat Models**: LangChain supports chat models, which are a variation of language models that work with messages instead of raw text. It provides a standard interface for working with chat models and performing similar tasks as with language models.\\n\\nThese features and capabilities make LangChain a versatile tool for working with language models in various applications and scenarios.', 'source_documents': [{'page_content': \"{'id': '8106ff3953b7-21', 'text': 'that use memory.\\\\\\\\nIndexes: Language models are often more powerful when combined with your own text data - this module covers best practices for doing exactly that.\\\\\\\\nChains: Chains go beyond just a single LLM call, and are sequences of calls (whether to an LLM or a different utility). LangChain provides a standard interface for chains, lots of integrations with other tools, and end-to-end chains for common applications.\\\\\\\\nAgents: Agents involve an LLM making decisions about which Actions to take, taking that Action, seeing an Observation, and repeating that until done. LangChain provides a standard interface for agents, a selection of agents to choose from, and examples of end to end agents.\\\\\\\\n\\\\\\\\n\\\\\\\\n\\\\\\\\n\\\\\\\\n\\\\\\\\nUse Cases#\\\\\\\\nThe above modules can be used in a variety of ways. LangChain also provides guidance and assistance in this. Below are some of the common use cases LangChain supports.\\\\\\\\n\\\\\\\\nPersonal Assistants: The main LangChain use case. Personal assistants need to take actions, remember interactions, and have knowledge about your data.\\\\\\\\nQuestion Answering: The second', 'source': 'https://python.langchain.com/en/latest/modules/indexes/document_loaders/examples/sitemap.html'}\", 'metadata': {}, 'type': 'Document'}, {'page_content': \"{'id': '8106ff3953b7-9', 'text': 'the common use cases LangChain supports.\\\\\\\\n\\\\\\\\nAgents: Agents are systems that use a language model to interact with other tools. These can be used to do more grounded question/answering, interact with APIs, or even take actions.\\\\\\\\nChatbots: Since language models are good at producing text, that makes them ideal for creating chatbots.\\\\\\\\nData Augmented Generation: Data Augmented Generation involves specific types of chains that first interact with an external datasource to fetch data to use in the generation step. Examples of this include summarization of long pieces of text and question/answering over specific data sources.\\\\\\\\nQuestion Answering: Answering questions over specific documents, only utilizing the information in those documents to construct an answer. A type of Data Augmented Generation.\\\\\\\\nSummarization: Summarizing longer documents into shorter, more condensed chunks of information. A type of Data Augmented Generation.\\\\\\\\nQuerying Tabular Data: If you want to understand how to use LLMs to query data that is stored in a tabular format (csvs, SQL, dataframes, etc) you should read this', 'source': 'https://python.langchain.com/en/latest/modules/indexes/document_loaders/examples/sitemap.html'}\", 'metadata': {}, 'type': 'Document'}, {'page_content': \"{'id': '81cace13f2ed-1', 'text': 'Agents: Agents involve an LLM making decisions about which Actions to take, taking that Action, seeing an Observation, and repeating that until done. LangChain provides a standard interface for agents, a selection of agents to choose from, and examples of end to end agents.\\\\nUse Cases#\\\\nThe above modules can be used in a variety of ways. LangChain also provides guidance and assistance in this. Below are some of the common use cases LangChain supports.\\\\nPersonal Assistants: The main LangChain use case. Personal assistants need to take actions, remember interactions, and have knowledge about your data.\\\\nQuestion Answering: The second big LangChain use case. Answering questions over specific documents, only utilizing the information in those documents to construct an answer.\\\\nChatbots: Since language models are good at producing text, that makes them ideal for creating chatbots.\\\\nQuerying Tabular Data: If you want to understand how to use LLMs to query data that is stored in a tabular format (csvs, SQL, dataframes, etc) you should read this page.\\\\nInteracting with APIs: Enabling LLMs to interact with APIs is extremely powerful in order to give them more up-to-date information and allow them to take actions.\\\\nExtraction: Extract structured information from text.\\\\nSummarization: Summarizing longer documents into shorter, more condensed chunks of information. A type of Data Augmented Generation.\\\\nEvaluation: Generative models are notoriously hard to evaluate with traditional metrics. One new way of evaluating them is using language models themselves to do the evaluation. LangChain provides some prompts/chains for assisting in this.\\\\nReference Docs#\\\\nAll of LangChain’s reference documentation, in one place. Full documentation on all methods, classes, installation methods, and integration setups for LangChain.\\\\nReference Documentation\\\\nLangChain Ecosystem#\\\\nGuides for how other companies/products can be used with LangChain\\\\nLangChain Ecosystem', 'source': 'https://langchain.readthedocs.io/en/latest/index.html'}\", 'metadata': {}, 'type': 'Document'}, {'page_content': \"{'id': '8106ff3953b7-8', 'text': 'models are often more powerful when combined with your own text data - this module covers best practices for doing exactly that.\\\\\\\\nAgents: Agents involve an LLM making decisions about which Actions to take, taking that Action, seeing an Observation, and repeating that until done. LangChain provides a standard interface for agents, a selection of agents to choose from, and examples of end to end agents.\\\\\\\\nMemory: Memory is the concept of persisting state between calls of a chain/agent. LangChain provides a standard interface for memory, a collection of memory implementations, and examples of chains/agents that use memory.\\\\\\\\nChat: Chat models are a variation on Language Models that expose a different API - rather than working with raw text, they work with messages. LangChain provides a standard interface for working with them and doing all the same things as above.\\\\\\\\n\\\\\\\\n\\\\\\\\n\\\\\\\\n\\\\\\\\n\\\\\\\\nUse Cases#\\\\\\\\nThe above modules can be used in a variety of ways. LangChain also provides guidance and assistance in this. Below are some of the common use cases LangChain supports.\\\\\\\\n\\\\\\\\nAgents: Agents', 'source': 'https://python.langchain.com/en/latest/modules/indexes/document_loaders/examples/sitemap.html'}\", 'metadata': {}, 'type': 'Document'}]}, 'callback_events': [], 'metadata': {'run_id': '25ead89e-7039-4d02-8210-1290f10c522d'}}\n"
     ]
    }
   ],
   "source": [
    "import requests\n",
    "from fastapi import FastAPI\n",
    "\n",
    "url = \"http://localhost:8000/invoke\"\n",
    "headers = {'Content-Type': 'application/json'}\n",
    "#data = {\"question\": \"How to improve the performance of LangChain?\", 'chat_history': []} \n",
    "#data = {\"input\": \"What are the key features of LangChain?\"}\n",
    "\n",
    "data = {\"input\": {\"question\": \"What is LangChain?\"}}\n",
    "    #,\n",
    "    #\"chat_history\": [\n",
    "    #    (\"What is LangChain?\", \"LangChain is a framework for developing applications powered by language models.\"),\n",
    "    #]\n",
    "\n",
    "\n",
    "response = requests.post(url, headers=headers, json=data)\n",
    "print(response.json())"
   ]
  },
  {
   "cell_type": "code",
   "execution_count": 9,
   "id": "dccc3210-389b-403f-8735-47854e26a3ec",
   "metadata": {},
   "outputs": [
    {
     "data": {
      "text/plain": [
       "'LangChain is a tool that provides various modules and capabilities for working with language models. Some of the features and capabilities of LangChain include:\\n\\n1. **Indexes**: Language models are enhanced when combined with your own text data, and LangChain covers best practices for integrating them.\\n   \\n2. **Chains**: LangChain allows for sequences of calls, not just single language model calls. It provides a standard interface for chains, integrations with other tools, and end-to-end chains for common applications.\\n   \\n3. **Agents**: Agents involve a language model making decisions about actions to take, executing those actions, observing the results, and repeating the process until completion. LangChain offers a standard interface for agents, a selection of agent types, and examples of end-to-end agents.\\n   \\n4. **Use Cases**: LangChain supports various common use cases such as personal assistants, question answering, chatbots, data augmented generation, summarization, querying tabular data, interacting with APIs, extraction, and evaluation of generative models.\\n\\n5. **Memory**: LangChain provides a standard interface for memory, which allows for persisting state between calls of a chain or agent. It includes various memory implementations and examples of chains or agents that utilize memory.\\n\\n6. **Chat Models**: LangChain supports chat models, which are a variation of language models that work with messages instead of raw text. It provides a standard interface for working with chat models and performing similar tasks as with language models.\\n\\nThese features and capabilities make LangChain a versatile tool for working with language models in various applications and scenarios.'"
      ]
     },
     "execution_count": 9,
     "metadata": {},
     "output_type": "execute_result"
    }
   ],
   "source": [
    "response.json()['output']['answer']"
   ]
  },
  {
   "cell_type": "code",
   "execution_count": 24,
   "id": "c1acf6c6-02fd-44b3-bd3b-42b6a6e2851b",
   "metadata": {},
   "outputs": [
    {
     "data": {
      "text/plain": [
       "'https://python.langchain.com/en/latest/modules/indexes/document_loaders/examples/sitemap.html'"
      ]
     },
     "execution_count": 24,
     "metadata": {},
     "output_type": "execute_result"
    }
   ],
   "source": [
    "response.json()['output']['source_documents'][0]['page_content'].split(\"'source':\")[1].replace(\"'\", \"\").replace(\"}\", \"\").strip()"
   ]
  },
  {
   "cell_type": "code",
   "execution_count": 5,
   "id": "168cae36-845f-44c1-a301-15bbf7c23ae4",
   "metadata": {},
   "outputs": [
    {
     "data": {
      "text/plain": [
       "AIMessage(content='LangChain is a blockchain-based platform that aims to revolutionize the language learning industry by providing a decentralized marketplace for language learning services. It allows users to connect with language tutors, exchange language learning materials, and participate in language learning communities. The platform also uses blockchain technology to ensure secure and transparent transactions between users.', response_metadata={'token_usage': {'completion_tokens': 62, 'prompt_tokens': 12, 'total_tokens': 74}, 'model_name': 'gpt-3.5-turbo', 'system_fingerprint': None, 'finish_reason': 'stop', 'logprobs': None}, id='run-8584a9f6-f304-473a-8948-83e66758839b-0', usage_metadata={'input_tokens': 12, 'output_tokens': 62, 'total_tokens': 74})"
      ]
     },
     "execution_count": 5,
     "metadata": {},
     "output_type": "execute_result"
    }
   ],
   "source": [
    "from langchain_openai import ChatOpenAI\n",
    "llm = ChatOpenAI(temperature=0)\n",
    "llm.invoke(\"What is LangChain?\")"
   ]
  },
  {
   "cell_type": "code",
   "execution_count": null,
   "id": "a60a2ce9-3878-4ef8-835d-9c1688fedf5d",
   "metadata": {},
   "outputs": [],
   "source": []
  },
  {
   "cell_type": "code",
   "execution_count": null,
   "id": "37f3492c-e03e-4649-9564-214d7da3c814",
   "metadata": {},
   "outputs": [],
   "source": [
    "!pip install streamlit -q"
   ]
  }
 ],
 "metadata": {
  "kernelspec": {
   "display_name": "Python 3",
   "language": "python",
   "name": "python3"
  },
  "language_info": {
   "codemirror_mode": {
    "name": "ipython",
    "version": 3
   },
   "file_extension": ".py",
   "mimetype": "text/x-python",
   "name": "python",
   "nbconvert_exporter": "python",
   "pygments_lexer": "ipython3",
   "version": "3.10.10"
  }
 },
 "nbformat": 4,
 "nbformat_minor": 5
}
